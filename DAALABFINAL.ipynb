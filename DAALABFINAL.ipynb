{
 "cells": [
  {
   "cell_type": "code",
   "execution_count": 25,
   "id": "df0cd2ac",
   "metadata": {},
   "outputs": [
    {
     "name": "stdout",
     "output_type": "stream",
     "text": [
      "1700000000000000000000000000000 50000000000000000000000 200000000000000000 "
     ]
    }
   ],
   "source": [
    "def Leaders(arr,size):\n",
    "    for i in range(0, size):\n",
    "        j = i + 1\n",
    "        is_leader = True\n",
    "        \n",
    "        while j < size:\n",
    "            if arr[i]<=arr[j]:\n",
    "                break\n",
    "            j += 1\n",
    "            \n",
    "        if is_leader and j == size:\n",
    "            print (arr[i],end=\" \")\n",
    " \n",
    "arr=[16, 1700000000000000000000000000000, 4, 3, 50000000000000000000000, 200000000000000000]\n",
    "Leaders(arr, len(arr))"
   ]
  },
  {
   "cell_type": "code",
   "execution_count": 2,
   "id": "c0d5cd7e",
   "metadata": {},
   "outputs": [
    {
     "name": "stdout",
     "output_type": "stream",
     "text": [
      "2 3 \n",
      "1 2 300\n",
      "2 2 100\n",
      "100\n"
     ]
    }
   ],
   "source": [
    "import heapq\n",
    "\n",
    "def minimize_curse(N, D, teachers):\n",
    "    teachers.sort(key=lambda x: x[0])               \n",
    "\n",
    "    min_curse = 0 \n",
    "    lectures_heap = [] \n",
    "    day = 1  \n",
    "    for i in range(N):\n",
    "        while day < teachers[i][0]:\n",
    "            if lectures_heap:\n",
    "                curse, _, lectures = heapq.heappop(lectures_heap)\n",
    "                min_curse += curse\n",
    "                lectures -= 1\n",
    "                if lectures > 0:\n",
    "                    heapq.heappush(lectures_heap, (curse, day, lectures))\n",
    "            day += 1\n",
    "        heapq.heappush(lectures_heap, (teachers[i][2], day, teachers[i][1]))\n",
    "        day += 1\n",
    "    while day <= D and lectures_heap:\n",
    "        curse, _, lectures = heapq.heappop(lectures_heap)\n",
    "        min_curse += curse\n",
    "        lectures -= 1\n",
    "        if lectures > 0:\n",
    "            heapq.heappush(lectures_heap, (curse, day, lectures))\n",
    "        day += 1\n",
    "    return min_curse\n",
    "N, D = map(int, input().split())\n",
    "teachers = []\n",
    "for _ in range(N):\n",
    "    Di, Ti, Si = map(int, input().split())\n",
    "    teachers.append((Di, Ti, Si))\n",
    "result = minimize_curse(N, D, teachers)\n",
    "print(result)"
   ]
  },
  {
   "cell_type": "code",
   "execution_count": 32,
   "id": "bb2f77dd",
   "metadata": {},
   "outputs": [
    {
     "name": "stdout",
     "output_type": "stream",
     "text": [
      "[3, 4, 8, 7, 2, 6, 1]\n"
     ]
    }
   ],
   "source": [
    "def zigzag(arr, n): \n",
    "  \n",
    "\n",
    "    X = True\n",
    "    for j in range(n - 1): \n",
    "  \n",
    "       \n",
    "        if X is True: \n",
    "  \n",
    "            if arr[j] > arr[j + 1]: \n",
    "                arr[j], arr[j + 1] = arr[j + 1], arr[j] \n",
    "  \n",
    "            else: \n",
    "  \n",
    "             if arr[j] < arr[j + 1]: \n",
    "                arr[j], arr[j + 1] = arr[j + 1], arr[j] \n",
    "        X = bool(1 - X) \n",
    "    print(arr) \n",
    "  \n",
    "\n",
    "arr = [4, 3, 7, 8, 6, 2, 1] \n",
    "n = len(arr) \n",
    "zigzag(arr, n) \n"
   ]
  },
  {
   "cell_type": "code",
   "execution_count": 3,
   "id": "c1939199",
   "metadata": {},
   "outputs": [
    {
     "name": "stdout",
     "output_type": "stream",
     "text": [
      "2 "
     ]
    }
   ],
   "source": [
    "def Leader(arr,size):\n",
    "\n",
    "    for i in range(0, size):\n",
    "        for j in range(i+1, size):\n",
    "            if arr[i]<=arr[j]:\n",
    "                break\n",
    "    if j == size-1: \n",
    "        print (arr[i],end=' ')\n",
    "\n",
    "arr=[16, 17, 4,3,5,2]\n",
    "Leader(arr, len(arr))"
   ]
  },
  {
   "cell_type": "code",
   "execution_count": 31,
   "id": "61659157",
   "metadata": {},
   "outputs": [
    {
     "name": "stdout",
     "output_type": "stream",
     "text": [
      "[3, 4, 8, 7, 2, 6, 1]\n"
     ]
    }
   ],
   "source": [
    "def zigzag(arr, n): \n",
    "  \n",
    "\n",
    "    X = True\n",
    "    for i in range(n - 1): \n",
    "  \n",
    "       \n",
    "        if X is True: \n",
    "  \n",
    "            if arr[i] > arr[i + 1]: \n",
    "                arr[i], arr[i + 1] = arr[i + 1], arr[i] \n",
    "  \n",
    "            else: \n",
    "  \n",
    "             if arr[i] < arr[i + 1]: \n",
    "                arr[i], arr[i + 1] = arr[i + 1], arr[i] \n",
    "        X = bool(1 - X) \n",
    "    print(arr) \n",
    "  \n",
    "\n",
    "arr = [4, 3, 7, 8, 6, 2, 1] \n",
    "n = len(arr) \n",
    "zigzag(arr, n) \n"
   ]
  },
  {
   "cell_type": "code",
   "execution_count": 35,
   "id": "2bcde1e1",
   "metadata": {
    "scrolled": true
   },
   "outputs": [
    {
     "name": "stdout",
     "output_type": "stream",
     "text": [
      "[3, 7, 4, 8, 2, 6, 1]\n"
     ]
    }
   ],
   "source": [
    "def zigZag(arr, n):\n",
    "    X = True\n",
    "    for i in range(n - 1):\n",
    "   \n",
    "        if X is True:\n",
    "\n",
    "            if arr[i] > arr[i + 1]:\n",
    "                arr[i], arr[i + 1] = arr[i + 1], arr[i]\n",
    "        else:\n",
    "\n",
    "            if arr[i] < arr[i + 1]:\n",
    "                arr[i], arr[i + 1] = arr[i + 1], arr[i]\n",
    "        X = bool(1 - X)\n",
    "    print(arr)\n",
    "\n",
    "arr = [4, 3, 7, 8, 6, 2, 1]\n",
    "n = len(arr)\n",
    "zigZag(arr, n)"
   ]
  },
  {
   "cell_type": "code",
   "execution_count": 4,
   "id": "3b562cc2",
   "metadata": {},
   "outputs": [
    {
     "name": "stdout",
     "output_type": "stream",
     "text": [
      "The repeating elements are : \n",
      "1  \n",
      "3  \n",
      "4  \n",
      "5  \n"
     ]
    }
   ],
   "source": [
    "numRay = [1, 10, 11, 12, 11, 1]\n",
    "arr_size = len(numRay)\n",
    "for i in range(arr_size):\n",
    "\n",
    "    x = numRay[i] % arr_size\n",
    "    numRay[x] = numRay[x] + arr_size\n",
    "\n",
    "print(\"The repeating elements are : \")\n",
    "for i in range(arr_size):\n",
    "    if (numRay[i] >= arr_size*2):\n",
    "        print(i, \" \")"
   ]
  },
  {
   "cell_type": "code",
   "execution_count": 5,
   "id": "fc61462c",
   "metadata": {},
   "outputs": [
    {
     "name": "stdout",
     "output_type": "stream",
     "text": [
      "The repeating elements are : \n",
      "1  \n",
      "3  \n",
      "4  \n",
      "5  \n"
     ]
    }
   ],
   "source": [
    "numRay = [1, 10, 11, 12, 11, 1]\n",
    "arr_size = len(numRay)\n",
    "for i in range(arr_size):\n",
    "\n",
    "    x = numRay[i] % arr_size\n",
    "    numRay[x] = numRay[x] + arr_size\n",
    "\n",
    "print(\"The repeating elements are : \")\n",
    "for i in range(arr_size):\n",
    "    if (numRay[i] >= arr_size*2):\n",
    "        print(i, \" \")"
   ]
  },
  {
   "cell_type": "code",
   "execution_count": 6,
   "id": "982c0cb8",
   "metadata": {},
   "outputs": [
    {
     "name": "stdout",
     "output_type": "stream",
     "text": [
      "The original list is : [1, 10, 11, 12, 11, 1]\n",
      "The list after removing duplicates : [1, 10, 11, 12]\n"
     ]
    }
   ],
   "source": [
    "test_list = [1, 10, 11, 12, 11, 1]\n",
    "print (\"The original list is : \"\n",
    "        + str(test_list))\n",
    "\n",
    "test_list = list(set(test_list))\n",
    "\n",
    "print (\"The list after removing duplicates : \"\n",
    "        + str(test_list))"
   ]
  },
  {
   "cell_type": "code",
   "execution_count": 8,
   "id": "ee074ca2",
   "metadata": {},
   "outputs": [
    {
     "name": "stdout",
     "output_type": "stream",
     "text": [
      "Given array is\n",
      "12 11 13 5 6 7 \n",
      "\n",
      "Sorted array is \n",
      "5 7 7 11 12 13 \n"
     ]
    }
   ],
   "source": [
    "def mergeSort(arr):\n",
    "    if len(arr) > 1:\n",
    "\n",
    "        mid = len(arr)//2\n",
    "\n",
    "        L = arr[:mid]\n",
    "\n",
    "        R = arr[mid:]\n",
    "    \n",
    "        mergeSort(L)\n",
    "\n",
    "        mergeSort(R)\n",
    "\n",
    "        i = j = k = 0\n",
    "\n",
    "        while i < len(L) and j < len(R):\n",
    "            if L[i] <= R[j]:\n",
    "                arr[k] = L[i]\n",
    "                i += 1\n",
    "            else:\n",
    "                arr[k] = R[j]\n",
    "            j += 1\n",
    "            k += 1\n",
    "\n",
    "        while i < len(L):\n",
    "            arr[k] = L[i]\n",
    "            i += 1\n",
    "            k += 1\n",
    "\n",
    "        while j < len(R):\n",
    "            arr[k] = R[j]\n",
    "            j += 1\n",
    "            k += 1\n",
    "\n",
    "def printList(arr):\n",
    "    for i in range(len(arr)):\n",
    "        print(arr[i], end=\" \")\n",
    "    print()\n",
    "\n",
    "if __name__ == '__main__':\n",
    "    arr = [12, 11, 13, 5, 6, 7]\n",
    "    print(\"Given array is\")\n",
    "    printList(arr)\n",
    "    mergeSort(arr)\n",
    "    print(\"\\nSorted array is \")\n",
    "    printList(arr)"
   ]
  },
  {
   "cell_type": "code",
   "execution_count": 54,
   "id": "8d9cfef8",
   "metadata": {},
   "outputs": [
    {
     "name": "stdout",
     "output_type": "stream",
     "text": [
      "[[0 1 2]\n",
      " [3 4 5]\n",
      " [6 7 8]]\n",
      "[[2 1 0]\n",
      " [3 4 5]\n",
      " [8 7 6]]\n"
     ]
    }
   ],
   "source": [
    "import numpy as np\n",
    "\n",
    "values = [0, 1, 2, 3,4, 5, 6, 7, 8]\n",
    "\n",
    "x = np.array(values).reshape(3, 3)\n",
    "\n",
    "print(x)\n",
    "for i in range(3):\n",
    "    for j in range(3):\n",
    "        x[0][0],x[0][2]=x[0][2],x[0][0]\n",
    "        x[2][0],x[2][2]=x[2][2],x[2][0]\n",
    "print(x)"
   ]
  },
  {
   "cell_type": "code",
   "execution_count": 52,
   "id": "efec602a",
   "metadata": {},
   "outputs": [
    {
     "name": "stdout",
     "output_type": "stream",
     "text": [
      "[[2, 1, 0], [5, 4, 3], [8, 7, 6]]\n"
     ]
    }
   ],
   "source": [
    "a=[[0,1,2],[3,4,5],[6,7,8]]\n",
    "for i in range(len(a)):\n",
    "    temp=a[i][0]\n",
    "    a[i][0]=a[i][2]\n",
    "    a[i][2]=temp\n",
    "    \n",
    "print(a)"
   ]
  },
  {
   "cell_type": "code",
   "execution_count": 53,
   "id": "4dc27fdb",
   "metadata": {},
   "outputs": [
    {
     "name": "stdout",
     "output_type": "stream",
     "text": [
      "[[1 2 3]\n",
      " [4 5 6]\n",
      " [7 8 9]]\n",
      "3 6 9 \n",
      "2 5 8 \n",
      "1 4 7 "
     ]
    }
   ],
   "source": [
    "import numpy as np\n",
    "x = np.arange(1, 10).reshape(3, 3)\n",
    "\n",
    "x\n",
    "print(x)\n",
    "for i in range(3):\n",
    "    for j in range(3):\n",
    "        if (i <3 and j ==2 ):\n",
    "            print(x[i][j],end=\" \")\n",
    "print(\"\")           \n",
    "for i in range(3):\n",
    "    for j in range(3):\n",
    "        if (i <3 and j ==1 ):\n",
    "            print(x[i][j],end=\" \")\n",
    "print(\"\")            \n",
    "for i in range(3):\n",
    "    for j in range(3):\n",
    "        if (i <3 and j ==0 ):\n",
    "            print(x[i][j],end=\" \")"
   ]
  },
  {
   "cell_type": "code",
   "execution_count": 55,
   "id": "73d465d0",
   "metadata": {},
   "outputs": [
    {
     "name": "stdout",
     "output_type": "stream",
     "text": [
      "[[0 1 2]\n",
      " [3 4 5]\n",
      " [6 7 8]]\n",
      "[[2 1 0]\n",
      " [3 4 5]\n",
      " [8 7 6]]\n"
     ]
    }
   ],
   "source": [
    "import numpy as np\n",
    "\n",
    "\n",
    "values = [0, 1, 2, 3,4, 5, 6, 7, 8]\n",
    "\n",
    "\n",
    "matrix = np.array(values).reshape(3, 3)\n",
    "\n",
    "print(matrix)\n",
    "for i in range(3):\n",
    "    for j in range(3):\n",
    "        matrix[0][0],matrix[0][2]=matrix[0][2],matrix[0][0]\n",
    "        matrix[2][0],matrix[2][2]=matrix[2][2],matrix[2][0]\n",
    "print(matrix)"
   ]
  },
  {
   "cell_type": "code",
   "execution_count": 75,
   "id": "37176cf6",
   "metadata": {},
   "outputs": [
    {
     "name": "stdout",
     "output_type": "stream",
     "text": [
      "Original list is : [2, 3, 1, 0, 4, 5, 7, 6, 9, 8]\n",
      "List index-value are : \n",
      "0 2\n",
      "1 3\n",
      "2 1\n",
      "3 0\n",
      "4 4\n",
      "5 5\n",
      "6 7\n",
      "7 6\n",
      "8 9\n",
      "9 8\n"
     ]
    }
   ],
   "source": [
    "test_list = [2, 3, 1, 0, 4, 5, 7, 6, 9, 8]\n",
    "\n",
    "print(\"Original list is : \" + str(test_list))\n",
    "\n",
    "print(\"List index-value are : \")\n",
    "for index, value in enumerate(test_list):\n",
    "    print(index, value)"
   ]
  },
  {
   "cell_type": "code",
   "execution_count": 4,
   "id": "524a193d",
   "metadata": {},
   "outputs": [
    {
     "name": "stdout",
     "output_type": "stream",
     "text": [
      "4 4 \n",
      "1 2 3\n",
      "1 3 2\n",
      "2 4 2\n",
      "3 4 3\n",
      "0\n",
      "1 4\n",
      "2 2 3\n",
      "0\n",
      "5\n"
     ]
    }
   ],
   "source": [
    "import heapq\n",
    "\n",
    "def shortest_path(n, m, portals, unsafe_times):\n",
    "    graph = [[] for _ in range(n + 1)]\n",
    "    for a, b, c in portals:\n",
    "        graph[a].append((b, c))\n",
    "        graph[b].append((a, c))\n",
    "    \n",
    "    min_time = [-1] * (n + 1)\n",
    "    min_time[1] = 0\n",
    "    pq = [(0, 1)]\n",
    "\n",
    "    while pq:\n",
    "        time, current_universe = heapq.heappop(pq)\n",
    "        \n",
    "        if current_universe == n:\n",
    "            return time\n",
    "\n",
    "        if time > min_time[current_universe]:\n",
    "            continue\n",
    "\n",
    "        for neighbor, travel_time in graph[current_universe]:\n",
    "            if time % 2 == 0:\n",
    "                waiting_time = 0\n",
    "            else:\n",
    "                waiting_time = 1\n",
    "\n",
    "            next_time = time + travel_time + waiting_time\n",
    "\n",
    "            if min_time[neighbor] == -1 or next_time < min_time[neighbor]:\n",
    "                min_time[neighbor] = next_time\n",
    "                heapq.heappush(pq, (next_time, neighbor))\n",
    "\n",
    "    return -1\n",
    "\n",
    "if __name__ == \"__main__\":\n",
    "    n, m = map(int, input().split())\n",
    "    portals = []\n",
    "    \n",
    "    for _ in range(m):\n",
    "        a, b, c = map(int, input().split())\n",
    "        portals.append((a, b, c))\n",
    "    \n",
    "    unsafe_times = {}\n",
    "    \n",
    "    for i in range(1, n + 1):\n",
    "        k_line = input().split()\n",
    "        k = int(k_line[0])\n",
    "        unsafe_times[i] = list(map(int, k_line[1:]))\n",
    "    \n",
    "    result = shortest_path(n, m, portals, unsafe_times)\n",
    "    print(result)\n"
   ]
  },
  {
   "cell_type": "code",
   "execution_count": 5,
   "id": "d3daba53",
   "metadata": {},
   "outputs": [
    {
     "name": "stdout",
     "output_type": "stream",
     "text": [
      "Triplet is 12 ,  3 ,  9\n"
     ]
    },
    {
     "data": {
      "text/plain": [
       "True"
      ]
     },
     "execution_count": 5,
     "metadata": {},
     "output_type": "execute_result"
    }
   ],
   "source": [
    "def find3Numbers(A, arr_size, sum):\n",
    "\n",
    "    for i in range( 0, arr_size-2):\n",
    "\n",
    "        for j in range(i + 1, arr_size-1):\n",
    "\n",
    "            for k in range(j + 1, arr_size):\n",
    "                if A[i] + A[j] + A[k] == sum:\n",
    "                    print(\"Triplet is\", A[i],\n",
    "                        \", \", A[j], \", \", A[k])\n",
    "                    return True\n",
    "\n",
    "    return False\n",
    "\n",
    "A = [12, 3, 4, 1, 6, 9]\n",
    "sum = 24\n",
    "arr_size = len(A)\n",
    "find3Numbers(A, arr_size, sum)\n"
   ]
  },
  {
   "cell_type": "code",
   "execution_count": 6,
   "id": "9dab507e",
   "metadata": {},
   "outputs": [
    {
     "name": "stdout",
     "output_type": "stream",
     "text": [
      "Square is 4 ,  6\n"
     ]
    },
    {
     "data": {
      "text/plain": [
       "True"
      ]
     },
     "execution_count": 6,
     "metadata": {},
     "output_type": "execute_result"
    }
   ],
   "source": [
    "def find3Numbers(A, arr_size, sum):\n",
    "\n",
    "    for i in range( 0, arr_size-2):\n",
    "\n",
    "        for j in range(i + 1, arr_size-1):\n",
    "\n",
    "            \n",
    "                if A[i] + A[j] == sum:\n",
    "                    print(\"Square is\", A[i],\n",
    "                        \", \", A[j])\n",
    "                    return True\n",
    "\n",
    "    return False\n",
    "\n",
    "A = [12, 3, 4, 1, 6, 9]\n",
    "sum = 10\n",
    "arr_size = len(A)\n",
    "find3Numbers(A, arr_size, sum)"
   ]
  },
  {
   "cell_type": "code",
   "execution_count": 7,
   "id": "6e2697e5",
   "metadata": {},
   "outputs": [
    {
     "name": "stdout",
     "output_type": "stream",
     "text": [
      "after segregation it will be 0 0 1 1 1 1 "
     ]
    }
   ],
   "source": [
    "def segregate0and1(arr, n) :\n",
    "\n",
    "    count = 0\n",
    "\n",
    "    for i in range(0, n) :\n",
    "        if (arr[i] == 0) :\n",
    "            count = count + 1\n",
    "\n",
    "    for i in range(0, count) :\n",
    "        arr[i] = 0\n",
    "\n",
    "    for i in range(count, n) :\n",
    "        arr[i] = 1\n",
    "\n",
    "def print_arr(arr , n) :\n",
    "    print( \"after segregation it will be \",end = \"\")\n",
    "\n",
    "    for i in range(0, n) :\n",
    "        print(arr[i] , end = \" \")\n",
    "\n",
    "arr = [ 0, 1, 0, 1, 1, 1 ]\n",
    "n = len(arr)\n",
    "\n",
    "segregate0and1(arr, n)\n",
    "print_arr(arr, n)\n"
   ]
  },
  {
   "cell_type": "code",
   "execution_count": 8,
   "id": "f7599b09",
   "metadata": {},
   "outputs": [
    {
     "name": "stdout",
     "output_type": "stream",
     "text": [
      "Sorted Matrix will be: \n",
      "0 0 0 \n",
      "0 0 2 \n",
      "4 6 8 \n"
     ]
    }
   ],
   "source": [
    "v = [[0,6,0], [0,2,0], [8,4,0]]\n",
    "n = len(v)\n",
    "\n",
    "x = []\n",
    "for i in range(n):\n",
    "    for j in range(n):\n",
    "        x.append(v[i][j])\n",
    "\n",
    "x.sort()\n",
    "k = 0\n",
    "for i in range(n):\n",
    "    for j in range(n):\n",
    "        v[i][j] = x[k]\n",
    "        k += 1\n",
    "\n",
    "print(\"Sorted Matrix will be: \")\n",
    "for i in range(n):\n",
    "    for j in range(n):\n",
    "        print(v[i][j], end=\" \")\n",
    "    print(\"\")"
   ]
  },
  {
   "cell_type": "code",
   "execution_count": 9,
   "id": "a0dae3b1",
   "metadata": {},
   "outputs": [
    {
     "name": "stdout",
     "output_type": "stream",
     "text": [
      "Sorted Matrix will be: \n",
      "0 0 0 \n",
      "0 0 2 \n",
      "4 6 8 \n"
     ]
    }
   ],
   "source": [
    "v = [[0,6,0], [0,2,0], [8,4,0]]\n",
    "n = len(v)\n",
    "\n",
    "x = []\n",
    "for i in range(n):\n",
    "    for j in range(n):\n",
    "        x.append(v[i][j])\n",
    "\n",
    "x.sort()\n",
    "k = 0\n",
    "for i in range(n):\n",
    "    for j in range(n):\n",
    "        v[i][j] = x[k]\n",
    "        k += 1\n",
    "\n",
    "print(\"Sorted Matrix will be: \")\n",
    "for i in range(n):\n",
    "    for j in range(n):\n",
    "        print(v[i][j], end=\" \")\n",
    "    print(\"\")"
   ]
  },
  {
   "cell_type": "code",
   "execution_count": 10,
   "id": "7df01bd4",
   "metadata": {},
   "outputs": [
    {
     "name": "stdout",
     "output_type": "stream",
     "text": [
      "Sorted Matrix will be: \n",
      "1 2 3 \n",
      "4 5 6 \n",
      "7 8 9 \n"
     ]
    }
   ],
   "source": [
    "v = [[7,6,5], [1,2,3], [8,4,9]]\n",
    "n = len(v)\n",
    "\n",
    "x = []\n",
    "for i in range(n):\n",
    "    for j in range(n):\n",
    "        x.append(v[i][j])\n",
    "\n",
    "x.sort()\n",
    "k = 0\n",
    "for i in range(n):\n",
    "    for j in range(n):\n",
    "        v[i][j] = x[k]\n",
    "        k += 1\n",
    "\n",
    "print(\"Sorted Matrix will be: \")\n",
    "for i in range(n):\n",
    "    for j in range(n):\n",
    "        print(v[i][j], end=\" \")\n",
    "    print(\"\")"
   ]
  },
  {
   "cell_type": "code",
   "execution_count": 11,
   "id": "882c87c7",
   "metadata": {},
   "outputs": [
    {
     "name": "stdout",
     "output_type": "stream",
     "text": [
      "Sorted Matrix will be: \n",
      "1 2 3 \n",
      "4 5 6 \n",
      "7 8 9 \n"
     ]
    }
   ],
   "source": [
    "v = [[7,6,5], [1,2,3], [8,4,9]]\n",
    "n = len(v)\n",
    "\n",
    "x = []\n",
    "for i in range(n):\n",
    "    for j in range(n):\n",
    "        x.append(v[i][j])\n",
    "\n",
    "x.sort()\n",
    "k = 0\n",
    "for i in range(n):\n",
    "    for j in range(n):\n",
    "        v[i][j] = x[k]\n",
    "        k += 1\n",
    "\n",
    "print(\"Sorted Matrix will be: \")\n",
    "for i in range(n):\n",
    "    for j in range(n):\n",
    "        print(v[i][j], end=\" \")\n",
    "    print(\"\")"
   ]
  },
  {
   "cell_type": "code",
   "execution_count": 12,
   "id": "a8832728",
   "metadata": {},
   "outputs": [
    {
     "name": "stdout",
     "output_type": "stream",
     "text": [
      "91\n"
     ]
    }
   ],
   "source": [
    "def multiply(x,y):\n",
    "\n",
    "    if(y == 0):\n",
    "        return 0\n",
    "\n",
    "    if(y > 0 ):\n",
    "        return (x + multiply(x, y - 1))\n",
    "\n",
    "    if(y < 0 ):\n",
    "        return -multiply(x, -y)\n",
    "\n",
    "print(multiply(7, 13))"
   ]
  },
  {
   "cell_type": "code",
   "execution_count": 13,
   "id": "36956fd6",
   "metadata": {},
   "outputs": [
    {
     "name": "stdout",
     "output_type": "stream",
     "text": [
      "Index of row with maximum 1s is 2\n"
     ]
    }
   ],
   "source": [
    "#in a 4 x 4 matrix which row has maximum no of 1s \n",
    "R,C = 4,4\n",
    "\n",
    "def first(arr , low , high):\n",
    "\n",
    "    if(high >= low):\n",
    "\n",
    "        mid = low + (high - low)//2\n",
    "\n",
    "        if ( ( mid == 0 or arr[mid-1] == 0) and arr[mid] == 1):\n",
    "            return mid\n",
    "        \n",
    "        elif (arr[mid] == 0):\n",
    "            return first(arr, (mid + 1), high);\n",
    "\n",
    "        else:\n",
    "            return first(arr, low, (mid -1));\n",
    "\n",
    "    return -1\n",
    "\n",
    "def rowWithMax1s(mat):\n",
    "\n",
    "    max_row_index,Max = 0,-1\n",
    "\n",
    "    for i in range(R):\n",
    "\n",
    "        index = first (mat[i], 0, C-1)\n",
    "        if (index != -1 and C-index > Max):\n",
    "            Max = C - index;\n",
    "            max_row_index = i\n",
    "\n",
    "    return max_row_index\n",
    "\n",
    "mat = [[0, 0, 0, 1],\n",
    "    [0, 1, 1, 1],\n",
    "    [1, 1, 1, 1],\n",
    "    [0, 0, 0, 0]]\n",
    "print(\"Index of row with maximum 1s is \" + str(rowWithMax1s(mat)))"
   ]
  },
  {
   "cell_type": "code",
   "execution_count": null,
   "id": "f6e6c8b1",
   "metadata": {},
   "outputs": [],
   "source": []
  }
 ],
 "metadata": {
  "kernelspec": {
   "display_name": "Python 3 (ipykernel)",
   "language": "python",
   "name": "python3"
  },
  "language_info": {
   "codemirror_mode": {
    "name": "ipython",
    "version": 3
   },
   "file_extension": ".py",
   "mimetype": "text/x-python",
   "name": "python",
   "nbconvert_exporter": "python",
   "pygments_lexer": "ipython3",
   "version": "3.9.13"
  }
 },
 "nbformat": 4,
 "nbformat_minor": 5
}
